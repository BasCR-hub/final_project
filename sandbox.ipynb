{
 "cells": [
  {
   "cell_type": "code",
   "execution_count": 63,
   "metadata": {},
   "outputs": [],
   "source": [
    "import pymongo\n",
    "from pymongo import MongoClient,ReturnDocument\n",
    "from bson import ObjectId\n",
    "from transformers import pipeline\n",
    "import re\n",
    "import json\n",
    "import scipy\n",
    "import numpy as np\n",
    "from nltk import sent_tokenize\n",
    "import pickle\n",
    "from bson.binary import Binary"
   ]
  },
  {
   "cell_type": "code",
   "execution_count": null,
   "metadata": {},
   "outputs": [],
   "source": [
    "nlp = pipeline(\"ner\")"
   ]
  },
  {
   "cell_type": "code",
   "execution_count": 2,
   "metadata": {},
   "outputs": [],
   "source": [
    "def search_through_text(txt,list_search_terms):\n",
    "    dict_occurrences= {}\n",
    "    for sentence in txt:\n",
    "        for country_name in list_search_terms:\n",
    "            if country_name in sentence:\n",
    "                if country_name in dict_occurrences:\n",
    "                    dict_occurrences[dict_countries[country_name]] += 1\n",
    "                elif country_name not in dict_occurrences:\n",
    "                    dict_occurrences[dict_countries[country_name]] = 1        \n",
    "    return dict_occurrences\n",
    "\n",
    "def split_txt_into_sentences(txt):\n",
    "    temp_txt = txt.replace('-\\n','').replace('\\n',' ').lower()\n",
    "    return sent_tokenize(temp_txt)"
   ]
  },
  {
   "cell_type": "code",
   "execution_count": 109,
   "metadata": {},
   "outputs": [],
   "source": [
    "client = MongoClient('localhost', 27017)\n",
    "db = client.db_world_bank\n",
    "reports_coll = db[\"reports\"]\n",
    "\n",
    "with open('countries.json') as json_file:\n",
    "    dict_countries = json.load(json_file)\n",
    "\n",
    "list_search_terms = [key.lower() for key in dict_countries.keys()]    \n",
    "\n",
    "coll_knowledge_notes = reports_coll.find({'full_text': {'$exists':True}})                                         \n",
    "for elem in coll_knowledge_notes:\n",
    "    object_id = elem[\"_id\"]\n",
    "    txt = elem['full_text']\n",
    "    txt = split_txt_into_sentences(txt)\n",
    "    country_mentions = search_through_text(txt,list_search_terms)\n",
    "    reports_coll.update_one({'_id':object_id},\n",
    "                            {'$set': {'country_mentions': country_mentions}}\n",
    "                            )"
   ]
  },
  {
   "cell_type": "code",
   "execution_count": 62,
   "metadata": {},
   "outputs": [
    {
     "data": {
      "text/plain": [
       "array([[-0.13941753,  0.39568356,  0.74955016, ...,  0.05756772,\n",
       "         0.63130397,  0.59260756],\n",
       "       [-0.56037164, -0.01517188,  0.11742869, ...,  0.01140295,\n",
       "         1.4424396 , -0.3498124 ],\n",
       "       [-0.05823234,  0.16593416,  1.3067884 , ...,  0.47052392,\n",
       "        -0.30400547, -0.49766257],\n",
       "       ...,\n",
       "       [-0.5157358 , -0.19514468,  0.47450164, ..., -0.44891167,\n",
       "         1.0223236 ,  0.17980193],\n",
       "       [-0.5506063 ,  0.14470986, -0.14311115, ...,  0.23329622,\n",
       "         0.9878426 ,  0.19337408],\n",
       "       [-0.35497937,  0.12686574,  0.28984013, ...,  0.01897784,\n",
       "         1.2822379 , -0.27582422]], dtype=float32)"
      ]
     },
     "execution_count": 62,
     "metadata": {},
     "output_type": "execute_result"
    }
   ],
   "source": [
    "import pickle\n",
    "from bson.binary import Binary\n",
    "embed  = Binary( pickle.dumps( sentence_embeddings, protocol=2) )\n",
    "npArray = pickle.loads(embed)\n",
    "npArray"
   ]
  },
  {
   "cell_type": "code",
   "execution_count": 71,
   "metadata": {},
   "outputs": [
    {
     "data": {
      "text/plain": [
       "['Journals', 'Knowledge Notes', 'Serial Publications']"
      ]
     },
     "execution_count": 71,
     "metadata": {},
     "output_type": "execute_result"
    }
   ],
   "source": [
    "reports_coll.distinct('collection')"
   ]
  },
  {
   "cell_type": "code",
   "execution_count": 106,
   "metadata": {
    "scrolled": true
   },
   "outputs": [
    {
     "name": "stdout",
     "output_type": "stream",
     "text": [
      "1814\r"
     ]
    }
   ],
   "source": [
    "client = MongoClient('localhost', 27017)\n",
    "db = client.db_world_bank\n",
    "reports_coll = db[\"reports\"]\n",
    "\n",
    "\n",
    "coll_knowledge_notes = reports_coll.find({'collection':'Serial Publications','abstract': {'$exists':True}},no_cursor_timeout=True)                                         \n",
    "\n",
    "counter=0\n",
    "for elem in coll_knowledge_notes:\n",
    "    print(counter,end='\\r')\n",
    "    counter+=1\n",
    "    temp_txt = split_txt_into_sentences(elem['abstract'])\n",
    "    if \"abstract_embeddings\" not in elem.keys():\n",
    "        object_id = elem[\"_id\"]\n",
    "        sentence_embeddings = model.encode(temp_txt)\n",
    "        reports_coll.update_one({'_id':object_id},\n",
    "                                {'$set': {'abstract_embeddings': Binary(pickle.dumps(sentence_embeddings, protocol=2))}}\n",
    "                                )\n"
   ]
  },
  {
   "cell_type": "code",
   "execution_count": 102,
   "metadata": {},
   "outputs": [
    {
     "name": "stdout",
     "output_type": "stream",
     "text": [
      "1\n"
     ]
    },
    {
     "ename": "KeyError",
     "evalue": "'abstract_embeddings'",
     "output_type": "error",
     "traceback": [
      "\u001b[0;31m---------------------------------------------------------------------------\u001b[0m",
      "\u001b[0;31mKeyError\u001b[0m                                  Traceback (most recent call last)",
      "\u001b[0;32m<ipython-input-102-cdd6c8a403de>\u001b[0m in \u001b[0;36m<module>\u001b[0;34m\u001b[0m\n\u001b[1;32m      2\u001b[0m \u001b[0mcounter\u001b[0m \u001b[0;34m=\u001b[0m \u001b[0;36m0\u001b[0m\u001b[0;34m\u001b[0m\u001b[0;34m\u001b[0m\u001b[0m\n\u001b[1;32m      3\u001b[0m \u001b[0;32mfor\u001b[0m \u001b[0melem\u001b[0m \u001b[0;32min\u001b[0m \u001b[0mcoll_knowledge_notes\u001b[0m\u001b[0;34m[\u001b[0m\u001b[0;36m0\u001b[0m\u001b[0;34m:\u001b[0m\u001b[0;36m50\u001b[0m\u001b[0;34m]\u001b[0m\u001b[0;34m:\u001b[0m\u001b[0;34m\u001b[0m\u001b[0;34m\u001b[0m\u001b[0m\n\u001b[0;32m----> 4\u001b[0;31m     \u001b[0;32mif\u001b[0m \u001b[0melem\u001b[0m\u001b[0;34m[\u001b[0m\u001b[0;34m\"abstract_embeddings\"\u001b[0m\u001b[0;34m]\u001b[0m\u001b[0;34m:\u001b[0m\u001b[0;34m\u001b[0m\u001b[0;34m\u001b[0m\u001b[0m\n\u001b[0m\u001b[1;32m      5\u001b[0m         \u001b[0mcounter\u001b[0m\u001b[0;34m+=\u001b[0m\u001b[0;36m1\u001b[0m\u001b[0;34m\u001b[0m\u001b[0;34m\u001b[0m\u001b[0m\n\u001b[1;32m      6\u001b[0m \u001b[0;34m\u001b[0m\u001b[0m\n",
      "\u001b[0;31mKeyError\u001b[0m: 'abstract_embeddings'"
     ]
    }
   ],
   "source": [
    "coll_knowledge_notes = reports_coll.find({'collection':'Knowledge Notes','abstract': {'$exists':True}},no_cursor_timeout=True)                                         \n",
    "counter = 0\n",
    "for elem in coll_knowledge_notes[0:1]:\n",
    "    if elem[\"abstract_embeddings\"]:\n",
    "        counter+=1\n",
    "    print(counter)\n",
    "coll_knowledge_notes.count()"
   ]
  },
  {
   "cell_type": "code",
   "execution_count": 67,
   "metadata": {},
   "outputs": [
    {
     "name": "stdout",
     "output_type": "stream",
     "text": [
      "[[-0.13941753  0.39568356  0.74955016 ...  0.05756772  0.63130397\n",
      "   0.59260756]\n",
      " [-0.56037164 -0.01517188  0.11742869 ...  0.01140295  1.4424396\n",
      "  -0.3498124 ]\n",
      " [-0.05823234  0.16593416  1.3067884  ...  0.47052392 -0.30400547\n",
      "  -0.49766257]\n",
      " ...\n",
      " [-0.5157358  -0.19514468  0.47450164 ... -0.44891167  1.0223236\n",
      "   0.17980193]\n",
      " [-0.5506063   0.14470986 -0.14311115 ...  0.23329622  0.9878426\n",
      "   0.19337408]\n",
      " [-0.35497937  0.12686574  0.28984013 ...  0.01897784  1.2822379\n",
      "  -0.27582422]]\n"
     ]
    }
   ],
   "source": [
    "coll_knowledge_notes = reports_coll.find({'collection':'Knowledge Notes','abstract': {'$exists':True}})                                         \n",
    "\n",
    "for elem in coll_knowledge_notes[:1]:\n",
    "    print(pickle.loads(elem[\"abstract_embeddings\"]))"
   ]
  },
  {
   "cell_type": "code",
   "execution_count": 5,
   "metadata": {},
   "outputs": [],
   "source": [
    "temp_txt = split_txt_into_sentences(elem['abstract'])"
   ]
  },
  {
   "cell_type": "code",
   "execution_count": 6,
   "metadata": {},
   "outputs": [],
   "source": [
    "from sentence_transformers import SentenceTransformer\n",
    "model = SentenceTransformer('bert-base-nli-mean-tokens')\n",
    "sentence_embeddings = model.encode(temp_txt)"
   ]
  },
  {
   "cell_type": "code",
   "execution_count": 51,
   "metadata": {},
   "outputs": [],
   "source": [
    "query = \"stimulating innovation\"\n",
    "query_embedding = model.encode(query)"
   ]
  },
  {
   "cell_type": "code",
   "execution_count": 52,
   "metadata": {},
   "outputs": [
    {
     "name": "stdout",
     "output_type": "stream",
     "text": [
      "0.9841211643069983\n",
      "0.8235328048467636\n",
      "0.6839850544929504\n",
      "0.7265406548976898\n",
      "0.5106472671031952\n",
      "0.7271755635738373\n",
      "1.0077961520291865\n",
      "0.59110426902771\n",
      "1.0208117738366127\n",
      "0.8537859916687012\n",
      "0.7079342603683472\n",
      "0.7489686906337738\n"
     ]
    },
    {
     "data": {
      "text/plain": [
       "0.7822003038988138"
      ]
     },
     "execution_count": 52,
     "metadata": {},
     "output_type": "execute_result"
    }
   ],
   "source": [
    "import scipy\n",
    "import numpy as np\n",
    "cos_simils = []\n",
    "for sentence_embedding in sentence_embeddings:\n",
    "    cos_simil = scipy.spatial.distance.cosine(query_embedding,sentence_embedding)\n",
    "    cos_simils.append(cos_simil)\n",
    "    print(scipy.spatial.distance.cosine(query_embedding,sentence_embedding))\n",
    "np.mean(cos_simils)"
   ]
  },
  {
   "cell_type": "code",
   "execution_count": null,
   "metadata": {},
   "outputs": [],
   "source": [
    "len(sentence_embeddings)"
   ]
  },
  {
   "cell_type": "code",
   "execution_count": null,
   "metadata": {},
   "outputs": [],
   "source": [
    "import nltk \n",
    "nltk.download('punkt')\n"
   ]
  },
  {
   "cell_type": "code",
   "execution_count": null,
   "metadata": {},
   "outputs": [],
   "source": [
    "df= pd.read_csv('list_countries.csv')\n",
    "dict_country_names = {}\n",
    "for idx in df.index:\n",
    "    df.loc[idx,\"Other names\"] = df.loc[idx,\"Other names\"].strip().lower() + ', '+df.loc[idx,\"Short name\"].strip().lower()\n",
    "    lst_other_names = df.loc[idx,\"Other names\"].strip().lower().split(', ')\n",
    "    for name in lst_other_names:\n",
    "        dict_country_names[name] = df.loc[idx,\"Short name\"].strip().lower()\n",
    "dict_country_names"
   ]
  },
  {
   "cell_type": "code",
   "execution_count": null,
   "metadata": {},
   "outputs": [],
   "source": [
    "with open('countries.json', 'w') as outfile:\n",
    "    json.dump(dict_country_names, outfile)"
   ]
  },
  {
   "cell_type": "code",
   "execution_count": null,
   "metadata": {},
   "outputs": [],
   "source": [
    "from nltk import sent_tokenize\n",
    "txt2 = txt.replace('-\\n','').replace('\\n',' ').lower()\n",
    "test_txt = sent_tokenize(txt2)\n",
    "test_txt"
   ]
  },
  {
   "cell_type": "code",
   "execution_count": null,
   "metadata": {},
   "outputs": [],
   "source": [
    "import json\n",
    "with open('countries.json') as json_file:\n",
    "    dict_countries = json.load(json_file)\n",
    "\n",
    "search_term = []\n",
    "for key, value in dict_countries.items():\n",
    "    search_term.append(value)\n",
    "    \n",
    "flat_list = list(set([item.strip().lower() for sublist in search_term for item in sublist]))\n",
    "flat_list"
   ]
  },
  {
   "cell_type": "code",
   "execution_count": null,
   "metadata": {},
   "outputs": [],
   "source": [
    "import json\n",
    "with open('countries.json') as json_file:\n",
    "    dict_countries = json.load(json_file)\n",
    "\n",
    "dict_countries"
   ]
  },
  {
   "cell_type": "code",
   "execution_count": null,
   "metadata": {},
   "outputs": [],
   "source": [
    "list_search_terms"
   ]
  },
  {
   "cell_type": "code",
   "execution_count": null,
   "metadata": {},
   "outputs": [],
   "source": [
    "with open('countries.json') as json_file:\n",
    "    dict_countries = json.load(json_file)\n",
    "\n",
    "list_search_terms = [key.lower() for key in dict_countries.keys()]    \n",
    "def search_through_text(txt,list_search_terms):\n",
    "    dict_occurrences= {}\n",
    "    for sentence in txt:\n",
    "        for country_name in list_search_terms:\n",
    "            if country_name in sentence:\n",
    "                if country_name in dict_occurrences:\n",
    "                    dict_occurrences[dict_countries[country_name]] += 1\n",
    "                elif country_name not in dict_occurrences:\n",
    "                    dict_occurrences[dict_countries[country_name]] = 1\n",
    "                    \n",
    "    return dict_occurrences\n",
    "                \n",
    "search_through_text(test_txt,list_search_terms)\n"
   ]
  },
  {
   "cell_type": "code",
   "execution_count": null,
   "metadata": {},
   "outputs": [],
   "source": [
    "import re\n",
    "txt2 = txt.replace('-\\n','').replace('\\n',' ').lower()\n",
    "\n",
    "import re\n",
    "alphabets= \"([A-Za-z])\"\n",
    "prefixes = \"(Mr|St|Mrs|Ms|Dr)[.]\"\n",
    "suffixes = \"(Inc|Ltd|Jr|Sr|Co)\"\n",
    "starters = \"(Mr|Mrs|Ms|Dr|He\\s|She\\s|It\\s|They\\s|Their\\s|Our\\s|We\\s|But\\s|However\\s|That\\s|This\\s|Wherever)\"\n",
    "acronyms = \"([A-Z][.][A-Z][.](?:[A-Z][.])?)\"\n",
    "websites = \"[.](com|net|org|io|gov)\"\n",
    "\n",
    "def split_into_sentences(text):\n",
    "    text = \" \" + text + \"  \"\n",
    "    text = text.replace(\"\\n\",\" \")\n",
    "    text = re.sub(prefixes,\"\\\\1<prd>\",text)\n",
    "    text = re.sub(websites,\"<prd>\\\\1\",text)\n",
    "    if \"Ph.D\" in text: text = text.replace(\"Ph.D.\",\"Ph<prd>D<prd>\")\n",
    "    text = re.sub(\"\\s\" + alphabets + \"[.] \",\" \\\\1<prd> \",text)\n",
    "    text = re.sub(acronyms+\" \"+starters,\"\\\\1<stop> \\\\2\",text)\n",
    "    text = re.sub(alphabets + \"[.]\" + alphabets + \"[.]\" + alphabets + \"[.]\",\"\\\\1<prd>\\\\2<prd>\\\\3<prd>\",text)\n",
    "    text = re.sub(alphabets + \"[.]\" + alphabets + \"[.]\",\"\\\\1<prd>\\\\2<prd>\",text)\n",
    "    text = re.sub(\" \"+suffixes+\"[.] \"+starters,\" \\\\1<stop> \\\\2\",text)\n",
    "    text = re.sub(\" \"+suffixes+\"[.]\",\" \\\\1<prd>\",text)\n",
    "    text = re.sub(\" \" + alphabets + \"[.]\",\" \\\\1<prd>\",text)\n",
    "    if \"”\" in text: text = text.replace(\".”\",\"”.\")\n",
    "    if \"\\\"\" in text: text = text.replace(\".\\\"\",\"\\\".\")\n",
    "    if \"!\" in text: text = text.replace(\"!\\\"\",\"\\\"!\")\n",
    "    if \"?\" in text: text = text.replace(\"?\\\"\",\"\\\"?\")\n",
    "    text = text.replace(\".\",\".<stop>\")\n",
    "    text = text.replace(\"?\",\"?<stop>\")\n",
    "    text = text.replace(\"!\",\"!<stop>\")\n",
    "    text = text.replace(\"<prd>\",\".\")\n",
    "    sentences = text.split(\"<stop>\")\n",
    "    sentences = sentences[:-1]\n",
    "    sentences = [s.strip() for s in sentences]\n",
    "    return sentences\n",
    "\n",
    "split_into_sentences(txt)"
   ]
  },
  {
   "cell_type": "code",
   "execution_count": null,
   "metadata": {},
   "outputs": [],
   "source": [
    "interesting_entities = []\n",
    "text_length = len(txt)\n",
    "for start_range in range(0,text_length,10000):\n",
    "    entities = nlp(txt[start_range:start_range+10000].replace('\\n',''))\n",
    "    temp_lst = [entity for entity in entities if entity[\"entity\"]==\"I-LOC\"]\n",
    "    print(temp_lst)\n",
    "    interesting_entities += temp_lst"
   ]
  },
  {
   "cell_type": "code",
   "execution_count": null,
   "metadata": {},
   "outputs": [],
   "source": [
    "interesting_entities = [entity for entity in entities if entity[\"entity\"]==\"I-LOC\"]\n",
    "interesting_entities"
   ]
  },
  {
   "cell_type": "code",
   "execution_count": null,
   "metadata": {},
   "outputs": [],
   "source": [
    "entities"
   ]
  },
  {
   "cell_type": "code",
   "execution_count": null,
   "metadata": {},
   "outputs": [],
   "source": [
    "interesting_entities"
   ]
  }
 ],
 "metadata": {
  "kernelspec": {
   "display_name": "Python 3",
   "language": "python",
   "name": "python3"
  },
  "language_info": {
   "codemirror_mode": {
    "name": "ipython",
    "version": 3
   },
   "file_extension": ".py",
   "mimetype": "text/x-python",
   "name": "python",
   "nbconvert_exporter": "python",
   "pygments_lexer": "ipython3",
   "version": "3.8.3"
  }
 },
 "nbformat": 4,
 "nbformat_minor": 4
}

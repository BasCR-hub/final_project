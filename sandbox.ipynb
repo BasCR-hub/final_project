{
 "cells": [
  {
   "cell_type": "code",
   "execution_count": 18,
   "metadata": {},
   "outputs": [],
   "source": [
    "import pdftotext\n",
    "import re"
   ]
  },
  {
   "cell_type": "code",
   "execution_count": 24,
   "metadata": {},
   "outputs": [],
   "source": [
    "# Load PDF\n",
    "with open(\"pdf3.pdf\", \"rb\") as f:\n",
    "    pdf = pdftotext.PDF(f)\n",
    "\n",
    "full_text = \"\\n\\n\".join(pdf)\n",
    "full_text = full_text.replace(\"\\n\",' ').lower()\n",
    "full_text = re.split(r'[.] ',full_text)\n",
    "\n"
   ]
  },
  {
   "cell_type": "code",
   "execution_count": 30,
   "metadata": {},
   "outputs": [],
   "source": [
    "check_string = 'GDP'\n",
    "\n",
    "search_results = [sentence for sentence in full_text if check_string.lower() in sentence]"
   ]
  },
  {
   "cell_type": "code",
   "execution_count": 31,
   "metadata": {},
   "outputs": [
    {
     "data": {
      "text/plain": [
       "['using the simple model, hertel and baldos dence of unconditional convergence after 1998 among the 67 lar-                              (2016, p.30) find that long-run crop prices will most likely resume gest economies that accounted for 96 percent of world gdp and                                their downward trend between 2006 and 2050 but that these 86 percent of world population',\n",
       " 'annual per capita gdp growth rates 1951–2018: developed versus developing countries, %',\n",
       " 'source: maddison (2010) data on gdp at 1990 ppp for 1950–2008 and world bank (2019) data at 2011 ppp for 2009-2017',\n",
       " 'past and future growth in global food demand     where y is ce consumption per capita and x is purchasing power parity (ppp) gross domestic product (gdp) per capita in 2005 con-                                in table 1, we decompose total growth in global food demand stant prices',\n",
       " '(1) with a price distor-                          projections for population and gdp (in ppp 2005 constant prices) tion variable, but this reduced the sample by more than half with-                           from the shared socioeconomic pathways (ssp) database devel- out greatly changing the coefficients of interest',\n",
       " '                                          oped by the international institute for applied systems analysis     in high-income countries, there has been a shift away from the                           (iiasa).10 to provide a benchmark, we focus on the so-called ‘middle most resource-intensive meats, such as beef, and towards more                                ground’ scenario (ssp2) for both gdp and population data',\n",
       " 'in contrast, all                              period 2009–2050, the ssp2 projects annual global gdp growth of non-eca developing regions increased their consumption as their                              3.1 percent, with per capita gdp growth of 2.4 percent and popula- incomes grew',\n",
       " '                                                                                                 (1) with respect to ppp gdp per capita for our 134 sample coun-                                                                                                  tries',\n",
       " 'it presents the arc elasticity defined as the change in the                                                                                                  log of ce consumption divided by the change in the log of gdp                                                                                                  between 2009 and 2050',\n",
       " 'specifically,                                                                                                           \\x01         \\x03      \\x01          \\x03                                                                                                             d 2050 \\x02 ln cons                                                                                                       ln cons                  d 2009                                                                                                  a¼                                                                                                          lnðgdp2050 þ \\x02 lnðgdp2009 þ fig',\n",
       " '(1) for 2050 and 2009,                                                                                                  while ln ðgdp2050 þ and ln ðgdp2009 þ are the logs of per capita                                                                                                  gdp for the same years taken from the ssp database',\n",
       " '3, the                                                                                                  income elasticities are shown at the gdp of 2030 which is the                                                                                                  mid-point of the years 2009 and 2050',\n",
       " '                                                                              from diets dominated by staple foods to diets including more ani-                                                                                                  mal products; peaks at around 0.42 at a ppp gdp of around of total food demand measured in resource requirements to rise                                   $10,000; and then decreases as per capita income continues to over some range',\n",
       " '  a      gdp data for 2050 are taken from ssp2 (leimbach et al., 2017)',\n",
       " 'gdp per capita and the income elasticity of food demand, 2030',\n",
       " '                                                                                              accelerated growth in developing countries has resulted in a                                                                                           dramatic fall in the global gdp share of the group of seven (g7) and indonesia, are around their peak levels',\n",
       " 'the                      higher income countries, we regress per capita annual gdp growth elasticities for many ssa countries such as nigeria, ethiopia, tanza-                     rates (dlnyi ) for country i on country i’s initial log gdp (lnyi ) rela- nia and uganda would still be on the rise in 2030',\n",
       " 'using the middle-ground gdp                                positive—implying unconditional divergence, rather than conver- and population projections from the iiasa ssp, per capita ce con-                         gence—but not statistically significant',\n",
       " 'in contrast, the convergence sumption in 2050 was computed using 2050 gdp projections at                               term for 2001–2009 is negative and significant at the 5 percent the country level, multiplied by 2050 population projections and                          level, suggesting countries’ incomes started to converge in the first added up to the global level to compute global food demand in                             decade of the new millennium',\n",
       " 'the last column of table 2 such studies, particularly the 50 percent increase in food and other                      reveals that the ssp2 gdp projections for the middle of the century agricultural demand projected by fao (2017); the 47 percent by                            embody a trend of much more rapid convergence (\\x020.85 percent- gouel and guimbard (2018); the 60 percent by ifpri (2017); and                            age points) than in the 2001–2009 period',\n",
       " 'world gdp, per capita gdp and      our analysis suggests that considerable care is needed in inter-                     population are specified as growing at 3.1 percent, 2.4 percent preting estimates of the growth of total food demand',\n",
       " 'martin / world development 132 (2020) 104954                                                            7 table 3                                                                                 (\\x020.85) observed in the ssp2 projections to 2050.11 we first pro- contribution to ce consumption changes, 2009–2050, %                                    jected growth in gdp and in food demand deterministically to                                 ssp2              uniform            difference         2050 and then performed a counterfactual simulation with the uni-                                 change            change                                form growth rate that would result in the same value of world gdp                                 (%)               (%)                (%)                in 2050',\n",
       " 'when we calculate the growth of global income, we are with cirera and masset (2010), our results show that a decrease                                                                                         implicitly weighting by gdp shares, wi, rather than by food shares in between-country income inequality resulting from convergence                                                                                         si ',\n",
       " 'in the uniform growth scenario, the uniform growth rate is increases aggregate food demand, given the same level of aggre-                                 p                                                                                         yu ¼      w i :yi where w i is the gdp weight of country i',\n",
       " 'in this section,                                   p and income elasticities ( si ðai \\x02 aþðyi \\x02 yþ) is also positive,                       we use a parsimonious representation of supply based on per cap- because the income elasticities of demand in developing countries                      ita gdp and land availability',\n",
       " 'while food-weighted population                                                       0:32 is found to grow by 23 percent in log-difference terms for both sce-                   z ¼ 0:23 þ 0:0039 x0:62 \\x03 l                                                   ð8þ narios, food-weighted per capita demand growth under ssp2 of 48                             [0.11] [0.0043] [0.10] [0.037] percent in log-difference terms is much greater than the 36 percent                         where z is ce production per capita, x is ppp gdp per capita in in log-difference terms under the uniform growth scenario',\n",
       " '(1)                                                                                                               and (8) at the country level, multiplied by projected population to              0                                                                                                               compute the national consumption and production, and added up                          0    10000             20000          30000                                               gdp per capita, ppp 2005 $                                                                                 40000                 50000   to the global level.15 table 5 shows the results of estimated ce pro-                                                                                                               duction and ce consumption under different convergence scenarios',\n",
       " 'the exponent on the agricultural land is positive                                         annual global gdp growth of 3.1 percent in both scenarios',\n",
       " 'japan are likely to consume more food than they produce, being                                                    the differential gdp growth rates embodied in the ssp2 sce- food importers throughout their income levels',\n",
       " 'there                                                                                                               exists a slight gap between actual ce consumption and production in 2009 (about 0.9    using the intermediate ppp gdp13 and population projections for                                            percent) due to the missing countries in our sample',\n",
       " 'together they imply a flexibility of  13     one caveat in our analyses is that we rely our gdp assumptions on the ssp                                 price response to a proportional gap between supply and demand in the order of 0.86 database and do not consider the potential growth slowdown identified by recent                                 1                                                                                                               [1:16 \\x06 0.86]',\n",
       " 'specifically, each country’s annual growth rate is computed as 1.2–0.85 [lnyi \\x02 lnyus \\x05 where lnyi is the initial log gdp for country i, lnyus is the initial log gdp of the united states and 1.2 is the pro-                  6',\n",
       " 'since this scenario would lead to a lower world gdp growth of 2.7 percent, in parallel                         using a simple econometric model focusing on key drivers (in- to the base comparison, we construct a uniform growth scenario in                      come growth, population growth, dietary change, productivity which the world economies grow at uniform 2.7 percent per year',\n",
       " 'vergence rate of \\x021.57 (dowrick & nguyen, 1989) which is nearly                            using the gdp and population projections from the ssp2 data as twice that in the ssp2 scenario of \\x020.85 (‘middle of the road’                      set, we find that ce food demand would roughly double, increasing scenario)',\n",
       " 'the decomposition of gdp growth rate of 3.8 percent',\n",
       " 'the lower rate of convergence                         that the coefficient for unconditional income convergence in our would lead to a lower average annual world gdp growth rate of                          sample countries was not significant in the 1980s or 1990s but 2.1 percent',\n",
       " '                                     using the middle-ground gdp projections from the ssp database      overall, we find a clear pattern that the impact of income con-                   (ssp2) between 2009 and 2050 is about twice as rapid as the last vergence on world food demand is substantially larger than its                         decade, although still about half the rate estimated by dowrick impact on supply',\n",
       " 'future growth                                                                                     patterns of world regions–a gdp scenario approach',\n",
       " 'statistics on world population, gdp and per capita gdp, 1-                 rask, k., & rask, n']"
      ]
     },
     "execution_count": 31,
     "metadata": {},
     "output_type": "execute_result"
    }
   ],
   "source": [
    "search_results"
   ]
  }
 ],
 "metadata": {
  "kernelspec": {
   "display_name": "Python 3",
   "language": "python",
   "name": "python3"
  },
  "language_info": {
   "codemirror_mode": {
    "name": "ipython",
    "version": 3
   },
   "file_extension": ".py",
   "mimetype": "text/x-python",
   "name": "python",
   "nbconvert_exporter": "python",
   "pygments_lexer": "ipython3",
   "version": "3.8.3"
  }
 },
 "nbformat": 4,
 "nbformat_minor": 4
}

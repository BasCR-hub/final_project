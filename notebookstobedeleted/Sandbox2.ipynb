{
 "cells": [
  {
   "cell_type": "code",
   "execution_count": 1,
   "metadata": {},
   "outputs": [],
   "source": [
    "import pymongo\n",
    "from pymongo import MongoClient,ReturnDocument\n",
    "from bson import ObjectId\n",
    "from transformers import pipeline\n",
    "import re\n",
    "import json\n",
    "import scipy\n",
    "import numpy as np\n",
    "from nltk import sent_tokenize\n",
    "import pickle\n",
    "from bson.binary import Binary\n",
    "import scipy\n",
    "import numpy as np"
   ]
  },
  {
   "cell_type": "code",
   "execution_count": 2,
   "metadata": {},
   "outputs": [],
   "source": [
    "from sentence_transformers import SentenceTransformer\n",
    "model = SentenceTransformer('bert-base-nli-mean-tokens')\n"
   ]
  },
  {
   "cell_type": "code",
   "execution_count": 54,
   "metadata": {},
   "outputs": [
    {
     "name": "stdout",
     "output_type": "stream",
     "text": [
      "20\n"
     ]
    }
   ],
   "source": [
    "client = MongoClient('localhost', 27017)\n",
    "db = client.db_world_bank\n",
    "reports_coll = db[\"reports\"]\n",
    "\n",
    "query = 'Safe drinking water is essential for healthy human development and survival, but millions of poor people in low-income countries only have access to contaminated drinking water'\n",
    "query_embedding = model.encode(query)\n",
    "\n",
    "all_vectors = reports_coll.find(\n",
    "                                {'collection':'Knowledge Notes','abstract_embeddings': {'$exists':True}},\n",
    "                                {\"abstract_embeddings\": 1},\n",
    "                                )\n",
    "ids_of_interest = []\n",
    "all_vectors_list = []\n",
    "for element in all_vectors:\n",
    "    vector_set = pickle.loads(element[\"abstract_embeddings\"])\n",
    "    cossimil_abstract_query = [scipy.spatial.distance.cosine(query_embedding,vector) for vector in vector_set]\n",
    "    if np.mean(cossimil_abstract_query) > 0.8 and max(cossimil_abstract_query)>.8:\n",
    "        ids_of_interest.append(element['_id'])\n",
    "\n",
    "print(len(ids_of_interest))\n",
    "#idx_of_interest = []\n",
    "#for idx,vectorset in enumerate(all_vectors_list):\n",
    "#    if np.mean(vectorset) > 0.1 and max(vectorset)>.1:\n",
    "#        idx_of_interest.append(idx)\n",
    "#\n",
    "#all_vectors = reports_coll.find({'abstract_embeddings': {'$exists':True}})\n",
    "#titles = [all_vectors[idx][\"title\"] for idx in idx_of_interest if \"country_mentions\" in all_vectors[idx].keys()]\n"
   ]
  },
  {
   "cell_type": "code",
   "execution_count": 55,
   "metadata": {},
   "outputs": [
    {
     "name": "stdout",
     "output_type": "stream",
     "text": [
      "['china', 'india', 'brazil', 'philippines', 'peru', 'korea', 'samoa', 'tonga', 'georgia', 'mexico', 'kiribati', 'indonesia', 'thailand', 'malaysia', 'myanmar', 'dominica', 'mongolia', 'colombia', 'argentina', 'libya', 'djibouti', 'chile', 'yemen', 'kenya', 'fiji', 'haiti', 'venezuela', 'turkey', 'guinea', 'belarus', 'vanuatu', 'ecuador', 'paraguay', 'honduras', 'dominican republic', 'lithuania', 'solomon islands', 'guatemala', 'azerbaijan', 'serbia', 'cambodia', 'costa rica', 'bolivia', 'cuba', 'antigua and barbuda', 'grenada', 'jamaica', 'lebanon', 'france', 'burkina faso', 'tuvalu', 'panama', 'kazakhstan', 'papua new guinea', 'nicaragua', 'uzbekistan', 'albania', 'armenia', 'turkmenistan', 'ukraine', 'latvia', 'belize', 'uruguay', 'tajikistan', 'bulgaria', 'australia', 'mozambique', 'oman', 'micronesia', 'suriname', 'montenegro', 'syria', 'sudan', 'romania', 'nepal', 'south africa', 'russian federation', 'timor-leste', 'guyana', 'germany', 'japan', 'egypt', 'malawi', 'morocco', 'marshall islands', 'palau', 'united states of america', 'barbados', 'singapore', 'viet nam', 'bahrain', 'jordan', 'ghana', 'pakistan', 'niger', 'nigeria', 'ethiopia', 'bangladesh', 'uganda', 'zambia', 'el salvador', 'mali', 'somalia', 'algeria', 'iran', 'israel', 'kuwait', 'qatar', 'saudi arabia', 'tunisia', 'united arab emirates', 'guinea-bissau', 'botswana', 'canada', 'angola', 'madagascar', 'finland', 'ireland', 'denmark', 'sweden', 'italy', 'mauritania', 'new zealand', 'laos', 'bosnia and herzegovina', 'kyrgyzstan', 'north macedonia']\n"
     ]
    },
    {
     "data": {
      "text/plain": [
       "{'china': 38,\n",
       " 'india': 27,\n",
       " 'brazil': 25,\n",
       " 'philippines': 22,\n",
       " 'peru': 22,\n",
       " 'korea': 20,\n",
       " 'samoa': 20,\n",
       " 'tonga': 19,\n",
       " 'georgia': 18,\n",
       " 'mexico': 18,\n",
       " 'kiribati': 18,\n",
       " 'indonesia': 18,\n",
       " 'thailand': 17,\n",
       " 'malaysia': 16,\n",
       " 'myanmar': 14,\n",
       " 'dominica': 14,\n",
       " 'mongolia': 14,\n",
       " 'colombia': 14,\n",
       " 'argentina': 14,\n",
       " 'libya': 13,\n",
       " 'djibouti': 13,\n",
       " 'chile': 13,\n",
       " 'yemen': 12,\n",
       " 'kenya': 12,\n",
       " 'fiji': 12,\n",
       " 'haiti': 12,\n",
       " 'venezuela': 11,\n",
       " 'turkey': 11,\n",
       " 'guinea': 10,\n",
       " 'belarus': 10,\n",
       " 'vanuatu': 10,\n",
       " 'ecuador': 10,\n",
       " 'paraguay': 10,\n",
       " 'honduras': 10,\n",
       " 'dominican republic': 9,\n",
       " 'lithuania': 9,\n",
       " 'solomon islands': 9,\n",
       " 'guatemala': 9,\n",
       " 'azerbaijan': 9,\n",
       " 'serbia': 9,\n",
       " 'cambodia': 9,\n",
       " 'costa rica': 9,\n",
       " 'bolivia': 9,\n",
       " 'cuba': 8,\n",
       " 'antigua and barbuda': 8,\n",
       " 'grenada': 8,\n",
       " 'jamaica': 8,\n",
       " 'lebanon': 7,\n",
       " 'france': 7,\n",
       " 'burkina faso': 7,\n",
       " 'tuvalu': 7,\n",
       " 'panama': 7,\n",
       " 'kazakhstan': 7,\n",
       " 'papua new guinea': 7,\n",
       " 'nicaragua': 7,\n",
       " 'uzbekistan': 7,\n",
       " 'albania': 7,\n",
       " 'armenia': 7,\n",
       " 'turkmenistan': 7,\n",
       " 'ukraine': 7,\n",
       " 'latvia': 6,\n",
       " 'belize': 6,\n",
       " 'uruguay': 6,\n",
       " 'tajikistan': 6,\n",
       " 'bulgaria': 6,\n",
       " 'australia': 5,\n",
       " 'mozambique': 5,\n",
       " 'oman': 5,\n",
       " 'micronesia': 5,\n",
       " 'suriname': 5,\n",
       " 'montenegro': 5,\n",
       " 'syria': 4,\n",
       " 'sudan': 4,\n",
       " 'romania': 4,\n",
       " 'nepal': 4,\n",
       " 'south africa': 4,\n",
       " 'russian federation': 4,\n",
       " 'timor-leste': 4,\n",
       " 'guyana': 4,\n",
       " 'germany': 3,\n",
       " 'japan': 3,\n",
       " 'egypt': 3,\n",
       " 'malawi': 3,\n",
       " 'morocco': 3,\n",
       " 'marshall islands': 3,\n",
       " 'palau': 3,\n",
       " 'united states of america': 2,\n",
       " 'barbados': 2,\n",
       " 'singapore': 2,\n",
       " 'viet nam': 2,\n",
       " 'bahrain': 2,\n",
       " 'jordan': 2,\n",
       " 'ghana': 2,\n",
       " 'pakistan': 2,\n",
       " 'niger': 2,\n",
       " 'nigeria': 2,\n",
       " 'ethiopia': 2,\n",
       " 'bangladesh': 2,\n",
       " 'uganda': 2,\n",
       " 'zambia': 2,\n",
       " 'el salvador': 2,\n",
       " 'mali': 1,\n",
       " 'somalia': 1,\n",
       " 'algeria': 1,\n",
       " 'iran': 1,\n",
       " 'israel': 1,\n",
       " 'kuwait': 1,\n",
       " 'qatar': 1,\n",
       " 'saudi arabia': 1,\n",
       " 'tunisia': 1,\n",
       " 'united arab emirates': 1,\n",
       " 'guinea-bissau': 1,\n",
       " 'botswana': 1,\n",
       " 'canada': 1,\n",
       " 'angola': 1,\n",
       " 'madagascar': 1,\n",
       " 'finland': 1,\n",
       " 'ireland': 1,\n",
       " 'denmark': 1,\n",
       " 'sweden': 1,\n",
       " 'italy': 1,\n",
       " 'mauritania': 1,\n",
       " 'new zealand': 1,\n",
       " 'laos': 1,\n",
       " 'bosnia and herzegovina': 1,\n",
       " 'kyrgyzstan': 1,\n",
       " 'north macedonia': 1}"
      ]
     },
     "execution_count": 55,
     "metadata": {},
     "output_type": "execute_result"
    }
   ],
   "source": [
    "test = reports_coll.find({\"_id\":{'$in':ids_of_interest}})\n",
    "\n",
    "dict_mentions = {}\n",
    "for elem in test:\n",
    "    if 'country_mentions' in elem.keys():\n",
    "        for key,value in elem['country_mentions'].items():\n",
    "            if key in dict_mentions.keys():\n",
    "                dict_mentions[key]+=value\n",
    "            elif key not in dict_mentions.keys():\n",
    "                dict_mentions[key] = value\n",
    "\n",
    "most_mentioned = sorted(dict_mentions, key=dict_mentions.get,reverse=True)\n",
    "print(most_mentioned)\n",
    "#print(sorted(dict_mentions, key=dict_mentions.get,reverse=True))\n",
    "{k: v for k, v in sorted(dict_mentions.items(), key=lambda item: item[1],reverse=True)}"
   ]
  },
  {
   "cell_type": "code",
   "execution_count": 56,
   "metadata": {},
   "outputs": [
    {
     "name": "stdout",
     "output_type": "stream",
     "text": [
      "A wide range of new technologies are progressively being used for data collection, project planning, implementation, and monitoring and evaluation in forced displacement contexts. This note highlights case studies from countries in the Middle East and North Africa Region and provides practitioners with specific examples of technology use.\n",
      "This document provides introduction by providing overall guidance on the use of terms and abbreviations across the entire notes series. Common overarching principles on responsible agricultural investment which underlie the approach and tenor of the series are also introduced. Note 2 complements others in the series by offering additional resources over and above those provided in each of them.\n",
      "Connections is a series of concise knowledge notes from the World Bank Group’s Transport and ICT Global Practice. Connections discusses projects, experiences, and front-line developments in Transport and ICT. This set includes notes from 2015 and 2016.\n",
      "International air transport is at a crossroads. The aviation industry's center of gravity has moved toward the East, with main hubs in the Gulf region and ever-increasing passenger markets located in Asia. Long-haul inter-continental low-cost-carriers have emerged. Global alliances and their effects on competition have come into question. These outcomes have led to a reignited interest in the issue of liberalization in aviation: European regulators now need to balance concerns about fair competition with their own decades-long push for the multilateral liberalization of the aviation industry.\n",
      "To sustain momentum for the achievement of the sustainable energy for all (SE4ALL) objectives, a means of charting global progress to 2030 is needed. The World Bank and the International Energy Agency led a consortium of 15 international agencies to establish the SE4ALL global tracking framework (GTF), which provides a system for regular global reporting, based on rigorous yet practical, given available databases - technical measures. This note is based on that framework. This note uses GTF data to provide a regional and country perspective on the three SE4ALL goals in East Asia and the Pacific (EAP). The first section considers energy access. The report looks at the renewable energy and energy efficiency goals.\n",
      "To sustain momentum for the achievement of the sustainable energy for all (SE4ALL) objectives, a means of charting global progress to 2030 is needed. The World Bank and the International Energy Agency led a consortium of 15 international agencies to establish the SE4ALL global tracking framework (GTF), which provides a system for regular global reporting, based on rigorous yet practical, given available databases - technical measures. This note is based on that framework. This note uses data from the GTF to provide a regional and country perspective on the three pillars of SE4ALL for Latin America and the Caribbean (LAC). The first section considers energy access. This note looks at the renewable energy and energy efficiency goals.\n",
      "To sustain momentum for the achievement of the sustainable energy for all (SE4ALL) objectives, a means of charting global progress to 2030 is needed. The World Bank and the International Energy Agency led a consortium of 15 international agencies to establish the SE4ALL global tracking framework (GTF), which provides a system for regular global reporting, based on rigorous yet practical, given available databases - technical measures. This note is based on that framework. The primary indicators and data sources that the GTF uses to track progress toward the three SE4ALL goals are summarized in this note. This note uses data from the GTF to provide a regional and country perspective on the three pillars of SE4ALL for Eastern Europe and Central Asia (ECA). The first section considers energy access. The note looks at the renewable energy and energy efficiency goals.\n"
     ]
    }
   ],
   "source": [
    "test = reports_coll.find({\"_id\":{'$in' :ids_of_interest}})\n",
    "for elem in test:\n",
    "    if 'country_mentions' in elem.keys():\n",
    "        print(elem['abstract'])"
   ]
  },
  {
   "cell_type": "code",
   "execution_count": 6,
   "metadata": {},
   "outputs": [
    {
     "name": "stderr",
     "output_type": "stream",
     "text": [
      "<ipython-input-6-84439e7e48f2>:1: DeprecationWarning: count is deprecated. Use Collection.count_documents instead.\n",
      "  all_vectors.count()\n"
     ]
    },
    {
     "data": {
      "text/plain": [
       "8263"
      ]
     },
     "execution_count": 6,
     "metadata": {},
     "output_type": "execute_result"
    }
   ],
   "source": [
    "all_vectors.count()"
   ]
  },
  {
   "cell_type": "code",
   "execution_count": null,
   "metadata": {},
   "outputs": [],
   "source": [
    "for idx in idx_of_interest:\n",
    "    print(all_vectors[idx].keys())"
   ]
  },
  {
   "cell_type": "code",
   "execution_count": null,
   "metadata": {},
   "outputs": [],
   "source": [
    "all_vectors[12].keys()"
   ]
  },
  {
   "cell_type": "code",
   "execution_count": null,
   "metadata": {},
   "outputs": [],
   "source": [
    "reports_coll.count_documents({'collection':'Knowledge Notes',\n",
    "                                          'country_mentions': {'$exists':True},\n",
    "                                         'abstract_embeddings': {'$exists':True}})                                         \n",
    "\n"
   ]
  },
  {
   "cell_type": "code",
   "execution_count": null,
   "metadata": {},
   "outputs": [],
   "source": [
    "all_vectors[17]"
   ]
  },
  {
   "cell_type": "code",
   "execution_count": null,
   "metadata": {},
   "outputs": [],
   "source": [
    "idx_of_interest = []\n",
    "for idx,vectorset in enumerate(all_vectors_list):\n",
    "    if np.mean(vectorset) > 0.8 and max(vectorset)>.9:\n",
    "        idx_of_interest.append(idx)\n",
    "idx_of_interest"
   ]
  },
  {
   "cell_type": "code",
   "execution_count": null,
   "metadata": {},
   "outputs": [],
   "source": [
    "all_vectors = reports_coll.find({'abstract_embeddings': {'$exists':True}})\n",
    "info = [all_vectors[idx][\"title\"] for idx in idx_of_interest]\n",
    "info"
   ]
  },
  {
   "cell_type": "code",
   "execution_count": null,
   "metadata": {},
   "outputs": [],
   "source": [
    "len_stuff = [len(vector) for vector in all_vectors_list]\n",
    "np.mean(len_stuff)"
   ]
  },
  {
   "cell_type": "code",
   "execution_count": null,
   "metadata": {},
   "outputs": [],
   "source": [
    "lst_vector_scores = []\n",
    "for vector_set in all_vectors:\n",
    "    cossimil_abstract_query = [scipy.spatial.distance.cosine(query_embedding,vector) for vector in pickle.loads(vector_set)]\n",
    "    \n"
   ]
  }
 ],
 "metadata": {
  "kernelspec": {
   "display_name": "Python 3",
   "language": "python",
   "name": "python3"
  },
  "language_info": {
   "codemirror_mode": {
    "name": "ipython",
    "version": 3
   },
   "file_extension": ".py",
   "mimetype": "text/x-python",
   "name": "python",
   "nbconvert_exporter": "python",
   "pygments_lexer": "ipython3",
   "version": "3.8.3"
  }
 },
 "nbformat": 4,
 "nbformat_minor": 4
}
